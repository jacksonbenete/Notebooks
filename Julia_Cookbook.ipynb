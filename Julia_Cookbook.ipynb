{
 "cells": [
  {
   "cell_type": "markdown",
   "metadata": {},
   "source": [
    "# Julia Cookbook"
   ]
  },
  {
   "cell_type": "markdown",
   "metadata": {},
   "source": [
    "Um arquivo especial para guardar funções, procedimentos ou pedaços interessantes de código utilizados em outros projetos para fins de recordação ou reutiização posterior.\n"
   ]
  },
  {
   "cell_type": "markdown",
   "metadata": {},
   "source": [
    "---"
   ]
  },
  {
   "cell_type": "markdown",
   "metadata": {},
   "source": [
    "### Renomeando arquivos de uma pasta"
   ]
  },
  {
   "cell_type": "code",
   "execution_count": null,
   "metadata": {},
   "outputs": [],
   "source": [
    "# Files was not in .html so I've made a script to rename all of them\n",
    "map(x -> mv(string(\"./raw/\",x), string(\"./raw/\",x,\".html\")), readdir(\"./raw\"))"
   ]
  },
  {
   "cell_type": "markdown",
   "metadata": {},
   "source": [
    "### Convertendo html em objeto"
   ]
  },
  {
   "cell_type": "code",
   "execution_count": null,
   "metadata": {},
   "outputs": [],
   "source": [
    "# For each file in dir, convert to html object using Gumbo.parsehtml\n",
    "files = map(x -> parsehtml(convert(String, readstring(string(\"./raw/\",x)))), readdir(\"./raw\"));"
   ]
  }
 ],
 "metadata": {
  "kernelspec": {
   "display_name": "Julia 0.6.1",
   "language": "julia",
   "name": "julia-0.6"
  },
  "language_info": {
   "name": ""
  }
 },
 "nbformat": 4,
 "nbformat_minor": 2
}
