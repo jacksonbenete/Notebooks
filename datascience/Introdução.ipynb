{
 "cells": [
  {
   "cell_type": "markdown",
   "metadata": {},
   "source": [
    "# Introdução"
   ]
  },
  {
   "cell_type": "markdown",
   "metadata": {},
   "source": [
    "Data Science é a ciência que unifica os conhecimentos de matemática, estatística e computação, para aplicações em áreas diversas.\n",
    "\n",
    "Entre alguns assuntos relevantes encontrados no estudo e desenvolvimento de Data Science estão a álgebra linear, o cálculo, ciência da computação, probabilidade, estatística, aprendizagem de máquina, mineração de dados, criação e análise de modelos matemáticos.\n",
    "\n",
    "#### Algumas tags relevantes\n",
    "Computer Science, Data Science, Statistics, Mathematics, Julia, Jupyter, Linear Algebra, Metaprogramming, Machine Learning, Data Mining"
   ]
  },
  {
   "cell_type": "markdown",
   "metadata": {},
   "source": [
    "## Data Science"
   ]
  },
  {
   "cell_type": "markdown",
   "metadata": {},
   "source": [
    "Aproximadamente, a população mundial produz cerca de dois quintilhões e meio bytes de dados diariamente em 2018. \n",
    "\n",
    "Essa enorme quantidade de dados frequentemente não é apropriadamente utilizada em termos de análise, isso é, enviamos e recebemos mídias como fotos, vídeos, áudios e textos em nossos smartphones mas essa enorme quantidade de dados não é necessariamente capturado e analisado por alguma entidade. Essa enorme quantidade de dados no entanto se bem analisada poderia revelar fatos de importância ou no mínimo interessantes, mas devido a grande quantidade e variedade nos dados torna-se mais fácil a utilização de Data Science em empresas e aplicações imediatamente importantes para a tomada de decisões dessas corporações. Existe no entanto esta enorme quantidade de dados sendo produzidos diariamente e existe uma quantidade razoável de informações interessantes a serem extraídas desses dados. O cientista de dados é aquele que realizará a preparação, tratamento e análise de dados quaisquer que sejam, para o reconhecimento de padrões ou informações úteis."
   ]
  },
  {
   "cell_type": "markdown",
   "metadata": {},
   "source": [
    "Este trabalho tem como finalidade estudos pessoais sobre Data Science e ciência em geral, e o interesse de resumir e compilar informações e roteiros importantes para estudantes e entusiastas do assunto. Em diversos momentos informações serão extraídas de materiais diversos, em sua maioria livros, seja na forma de reprodução livre ou literalmente copiadas e coladas sem que sejam devidamente referenciadas as fontes além da citação das fontes utilizadas no arquivo Capa deste trabalho. Isso para facilitar a organização e tornar o processo de estudo mais rápido, não imagino que seja fácil manter um controle de referências e citações em um monte de arquivos de notebooks separados além de que não há intenção (ao menos inicial) de se transformar essa obra em um livro comercial.\n",
    "\n",
    "Portanto, se alguma informação encontrada nos arquivos dessa obra forem de propriedade intelectual de alguém, parabéns a ele. Todos os direitos são reservados a seus respectivos autores.\n",
    "\n",
    "A não apropriada referência não permite ao colaborador a omitir a obra utilizada no topo do arquivo, isso para facilitar a identificação de qual livro ou capítulo já foi utilizado para enriquecer aquela parte do trabalho. Dessa forma, um colaborador que queira melhorar o capítulo \"1 - Dados\" pode notar os livros já utilizados para a composição daquele capítulo e a não ser que ele queira realmente revisitar a literatura utilizada e tentar melhorar o trabalho a partir dela, ele saberá que deverá procurar uma nova literatura diferente das listadas para enriquecer o trabalho, com isso, adicione a nova literatura à lista."
   ]
  },
  {
   "cell_type": "markdown",
   "metadata": {},
   "source": [
    "## Organização do trabalho"
   ]
  },
  {
   "cell_type": "markdown",
   "metadata": {},
   "source": [
    "Esta coleção de notebooks contém um resumo e estudo talvez nem sempre detalhado sobre todas as habilidades necessárias para o trabalho com Data Science, é necessário caso haja algum contribuidor, que habilidades fundamentais matemáticas sejam também ensinadas, visto que estudantes e entusiastas podem carecer de conhecimento superior ou aprofundado de determinados tópicos e é de utilidade tanto para os autores relembrarem ou aprenderem esses conceitos, como para os iniciados na ciência terem em um só local todo o necessário (ou quase) para se aventurar no Data Science."
   ]
  },
  {
   "cell_type": "markdown",
   "metadata": {},
   "source": [
    "## Terminologia"
   ]
  },
  {
   "cell_type": "markdown",
   "metadata": {},
   "source": [
    "Seguindo o exemplo do Practical Data Science (Vermeulen) segue uma lista de terminologias úteis para o entendimento fundamental dos conhecimentos, técnicas e ferramentas utilizadas nestes estudos."
   ]
  },
  {
   "cell_type": "markdown",
   "metadata": {},
   "source": [
    "### Data Science"
   ]
  },
  {
   "cell_type": "markdown",
   "metadata": {},
   "source": [
    "Ciência interdisciplinar que visa incorporar práticas e métodos para adquirir conhecimento e insights de dados organizados em esquemas heterogêneos. Isso é, Data Science é o tratamento e análise de dados per se."
   ]
  },
  {
   "cell_type": "markdown",
   "metadata": {},
   "source": [
    "### Data Analytics"
   ]
  },
  {
   "cell_type": "markdown",
   "metadata": {},
   "source": [
    "Ciência que visa encontrar fatos e tirar conclusões a partir de dados, geralmente através de associações estatísticas e insights."
   ]
  },
  {
   "cell_type": "markdown",
   "metadata": {},
   "source": [
    "### Machine Learning"
   ]
  },
  {
   "cell_type": "markdown",
   "metadata": {},
   "source": [
    "É a capacidade de sistemas (máquinas) de aprender sem uma programação explícita. Isso é, Machine Learning está diretamente associado a inteligência artificial."
   ]
  },
  {
   "cell_type": "markdown",
   "metadata": {},
   "source": [
    "### Data Mining"
   ]
  },
  {
   "cell_type": "markdown",
   "metadata": {},
   "source": [
    "Mineração de Dados é a ciência capaz de processar dados para isolar padrões e estabelecer relações entre as entidades envolvidas."
   ]
  },
  {
   "cell_type": "markdown",
   "metadata": {},
   "source": [
    "### Estatśtica"
   ]
  },
  {
   "cell_type": "markdown",
   "metadata": {},
   "source": [
    "É a ciência que estuda a coleção, análise, interpretação, apresentação e organização de dados."
   ]
  },
  {
   "cell_type": "markdown",
   "metadata": {},
   "source": [
    "### Algoritmos"
   ]
  },
  {
   "cell_type": "markdown",
   "metadata": {},
   "source": [
    "Um algoritmo é um roteiro ou um processo realizado passo a passo para se alcançar determinado fim. Um algoritmo pode definir desde uma operação matemática até os passos necessários para o preparo correto de uma receita culinária."
   ]
  },
  {
   "cell_type": "markdown",
   "metadata": {},
   "source": [
    "### Data Visualization"
   ]
  },
  {
   "cell_type": "markdown",
   "metadata": {},
   "source": [
    "É a criação e estudo das formas de apresentação visual dos dados. Tabelas, gráficos, imagens ou qualquer ferramenta que facilite a visualização e entendimento dos dados processados."
   ]
  },
  {
   "cell_type": "markdown",
   "metadata": {},
   "source": [
    "### Storytelling"
   ]
  },
  {
   "cell_type": "markdown",
   "metadata": {},
   "source": [
    "É o processo de tradução da análise dos dados para a linguagem apropriada de modo a influenciar a tomada de decisões. Isso é, a habildiade de explicar as relações e resultados encontrados na análise dos dados de modo que o estudo e seus resultados sejam aceitos."
   ]
  },
  {
   "cell_type": "markdown",
   "metadata": {},
   "source": [
    "### Julia"
   ]
  },
  {
   "cell_type": "markdown",
   "metadata": {},
   "source": [
    "Julia é uma linguagem de programação moderna para o tratamento de dados e ampla utilização científica, uma linguagem de programação é a forma como se torna possível ensinar a máquina ou ordená-la a executar os algoritmos necessários. Julia é a linguagem de programação escolhida para a utilização neste trabalho. Outras linguagens de programação que podem ser consideradas relevantes (mais apropriadas para utilização científica) são R, Python, Scala, Matlab e Fortran."
   ]
  },
  {
   "cell_type": "markdown",
   "metadata": {},
   "source": [
    "### Database e Data Lake"
   ]
  },
  {
   "cell_type": "markdown",
   "metadata": {},
   "source": [
    "Banco de dados é um conceito/ferramenta para o armazenamento de dados e informações, de diversas formas. Data Lake relaciona-se com um repositório de armazenamento para uma quantidade muito grande de dados puros (raw data), isso é, dados ainda não tratados. A cada elemento no Data Lake é associado um identificador único (como as \"chaves\" nos bancos de dados convencionais) e metadata tags."
   ]
  }
 ],
 "metadata": {
  "kernelspec": {
   "display_name": "Julia 0.6.1",
   "language": "julia",
   "name": "julia-0.6"
  },
  "language_info": {
   "file_extension": ".jl",
   "mimetype": "application/julia",
   "name": "julia",
   "version": "0.6.1"
  }
 },
 "nbformat": 4,
 "nbformat_minor": 2
}
