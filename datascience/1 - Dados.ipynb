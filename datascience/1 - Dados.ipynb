{
 "cells": [
  {
   "cell_type": "markdown",
   "metadata": {},
   "source": [
    "# Referências"
   ]
  },
  {
   "cell_type": "markdown",
   "metadata": {},
   "source": [
    "-  Principles of Data Science - Sinan Ozdemir\n",
    "-  Practical Data Science — Andreas François Vermeulen\n",
    "-  The Data Science Handbook - Field Cady\n",
    "-  Introduction to Data Mining - Pang-Ning Tan, Michael Steinbach, Vipin Kumar"
   ]
  }
 ],
 "metadata": {
  "kernelspec": {
   "display_name": "Julia 0.6.1",
   "language": "julia",
   "name": "julia-0.6"
  },
  "language_info": {
   "file_extension": ".jl",
   "mimetype": "application/julia",
   "name": "julia",
   "version": "0.6.1"
  }
 },
 "nbformat": 4,
 "nbformat_minor": 2
}
