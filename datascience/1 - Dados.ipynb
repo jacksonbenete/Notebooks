{
 "cells": [
  {
   "cell_type": "markdown",
   "metadata": {},
   "source": [
    "# Referências"
   ]
  },
  {
   "cell_type": "markdown",
   "metadata": {},
   "source": [
    "-  Principles of Data Science - Sinan Ozdemir\n",
    "-  Practical Data Science — Andreas François Vermeulen\n",
    "-  The Data Science Handbook - Field Cady\n",
    "-  Introduction to Data Mining - Pang-Ning Tan, Michael Steinbach, Vipin Kumar"
   ]
  },
  {
   "cell_type": "markdown",
   "metadata": {},
   "source": [
    "### Dados"
   ]
  },
  {
   "cell_type": "markdown",
   "metadata": {},
   "source": [
    "Dados podem se encontrar de forma *organizada* onde linhas representam observações/entidades e colunas represetam características. Essa forma é representada por uma tabela ou matriz, e assim como uma matriz ela pode ser transposta onde as colunas representarão observações e linhas representarão as características.\n",
    "\n",
    "Note que utilizamos o conceito de matriz que pode ser estudada em álgebra linear. Em Data Science você utilizará muitos conceitos matemáticos relacionados à álgebra linear, estatística e cálculo por exemplo, mas este documento tem a intenção de ensiná-los (e também ao autor) todos os conceitos necessários e relacionados com a ciência de dados. Os conhecimentos básicos necessários como os de álgebra, estatística, cálculo e algoritmos estarão em capítulos simbolizados por letras ao invés de números, como por exemplo os capítulo A (ou A1, A2, etc) que corresponde ao capítulo dedicado ao ensino e aprendizagem de álgebra linear."
   ]
  }
 ],
 "metadata": {
  "kernelspec": {
   "display_name": "Julia 0.6.1",
   "language": "julia",
   "name": "julia-0.6"
  },
  "language_info": {
   "file_extension": ".jl",
   "mimetype": "application/julia",
   "name": "julia",
   "version": "0.6.1"
  }
 },
 "nbformat": 4,
 "nbformat_minor": 2
}
