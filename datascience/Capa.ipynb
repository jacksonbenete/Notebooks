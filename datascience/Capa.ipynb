{
 "cells": [
  {
   "cell_type": "markdown",
   "metadata": {},
   "source": [
    "# Introdução ao Data Mining"
   ]
  },
  {
   "cell_type": "markdown",
   "metadata": {},
   "source": [
    "Este projeto visa concentrar o estudo de múltiplos livros de data science, de modo a servir como resumo e roteiro para meu próprio aprendizado.\n",
    "Cada arquivo irá se referir a um determinado capítulo, que será uma compilação de diversos livros, portanto um arquivo trata-se não de um resumo de determinada obra mas de um estudo sobre o assunto extraído de diversos livros dentre os utilizados."
   ]
  },
  {
   "cell_type": "markdown",
   "metadata": {},
   "source": [
    "### Lista de obras utilizadas\n",
    "\n",
    "As obras utilizadas para a criação deste material foram:\n",
    "\n",
    "\n"
   ]
  },
  {
   "cell_type": "markdown",
   "metadata": {},
   "source": [
    "-  A First Course in Machine Learning - Simon Rogers, Mark Girolami\n",
    "-  An Introduction to Machine Learning - Miroslav Kubat\n",
    "-  Begning Julia Programming for Engineers and Scientists - Sandeep Nagar\n",
    "-  Graph Theory with Aplications to Engineering and Computer Science - Narsingh Deo\n",
    "-  Introduction to Data Mining - Pang-Ning Tan, Michael Steinbach, Vipin Kumar\n",
    "-  Machine Learning Algorithms and Applications - Mohssen Mohammed, Muhammad Badruddin Khan, Eihab Bashier Mohammed Bashier\n",
    "-  Machine Learning in Action - Peter Harrington\n",
    "-  Practical Data Science — Andreas François Vermeulen\n",
    "-  Principles of Data Science - Sinan Ozdemir\n",
    "-  The Data Science Handbook - Field Cady\n",
    "-  Linear Algebra and its Applications - Gilbert Strang\n",
    "-  Calculus - James Stewart\n"
   ]
  },
  {
   "cell_type": "markdown",
   "metadata": {},
   "source": [
    "Mais a serem adicionados no futuro.\n",
    "Ao adicionar uma obra, favor retornar a cada capítulo incrementando os resumos e ensinamentos anteriores."
   ]
  },
  {
   "cell_type": "markdown",
   "metadata": {},
   "source": [
    "#### Colaboradores\n"
   ]
  },
  {
   "cell_type": "markdown",
   "metadata": {},
   "source": [
    "Jackson Benete Ferreira"
   ]
  }
 ],
 "metadata": {
  "kernelspec": {
   "display_name": "Julia 0.6.1",
   "language": "julia",
   "name": "julia-0.6"
  },
  "language_info": {
   "file_extension": ".jl",
   "mimetype": "application/julia",
   "name": "julia",
   "version": "0.6.1"
  }
 },
 "nbformat": 4,
 "nbformat_minor": 2
}
