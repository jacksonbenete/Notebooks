{
 "cells": [
  {
   "cell_type": "markdown",
   "metadata": {},
   "source": [
    "## Estudo de Bioinformática"
   ]
  },
  {
   "cell_type": "markdown",
   "metadata": {},
   "source": [
    "---\n",
    "\n",
    "### Módulo 1"
   ]
  },
  {
   "cell_type": "markdown",
   "metadata": {},
   "source": [
    "Seja o trecho conhecido do código genético para *Vibria Colerae* como se segue: (http://bioinformaticsalgorithms.com/data/realdatasets/Replication/v_cholerae_oric.txt)"
   ]
  },
  {
   "cell_type": "markdown",
   "metadata": {},
   "source": [
    "ATCAATGATCAACGTAAGCTTCTAAGCATGATCAAGGTGCTCACACAGTTTATCCACAACCTGAGTGGATGACATCAAGATAGGTCGTTGTATCTCCTTCCTCTCGTACTCTCATGACCACGGAAAGATGATCAAGAGAGGATGATTTCTTGGCCATATCGCAATGAATACTTGTGACTTGTGCTTCCAATTGACATCTTCAGCGCCATATTGCGCTGGCCAAGGTGACGGAGCGGGATTACGAAAGCATGATCATGGCTGTTGTTCTGTTTATCTTGTTTTGACTGAGACTTGTTAGGATAGACGGTTTTTCATCACTGACTAGCCAAAGCCTTACTCTGCCTGACATCGACCGTAAATTGATAATGAATTTACATGCTTCCGCGACGATTTACCTCTTGATCATCGATCCGATTGAAGATCTTCAATTGTTAATTCTCTTGCCTCGACTCATAGCCATGATGAGCTCTTGATCATGTTTCCTTAACCCTCTATTTTTTACGGAAGAATGATCAAGCTGCTGCTCTTGATCATCGTTTC"
   ]
  },
  {
   "cell_type": "code",
   "execution_count": 23,
   "metadata": {},
   "outputs": [],
   "source": [
    "vibriaColerae = 'ATCAATGATCAACGTAAGCTTCTAAGCATGATCAAGGTGCTCACACAGTTTATCCACAACCTGAGTGGATGACATCAAGATAGGTCGTTGTATCTCCTTCCTCTCGTACTCTCATGACCACGGAAAGATGATCAAGAGAGGATGATTTCTTGGCCATATCGCAATGAATACTTGTGACTTGTGCTTCCAATTGACATCTTCAGCGCCATATTGCGCTGGCCAAGGTGACGGAGCGGGATTACGAAAGCATGATCATGGCTGTTGTTCTGTTTATCTTGTTTTGACTGAGACTTGTTAGGATAGACGGTTTTTCATCACTGACTAGCCAAAGCCTTACTCTGCCTGACATCGACCGTAAATTGATAATGAATTTACATGCTTCCGCGACGATTTACCTCTTGATCATCGATCCGATTGAAGATCTTCAATTGTTAATTCTCTTGCCTCGACTCATAGCCATGATGAGCTCTTGATCATGTTTCCTTAACCCTCTATTTTTTACGGAAGAATGATCAAGCTGCTGCTCTTGATCATCGTTTC'"
   ]
  },
  {
   "cell_type": "code",
   "execution_count": 24,
   "metadata": {},
   "outputs": [],
   "source": [
    "def PatternCount(Text, Pattern):\n",
    "    count = 0\n",
    "    for i in range( len(Text) - len(Pattern) + 1 ):\n",
    "        if Text[i:i+len(Pattern)] == Pattern:\n",
    "            count += 1\n",
    "    return count"
   ]
  },
  {
   "cell_type": "code",
   "execution_count": 34,
   "metadata": {},
   "outputs": [
    {
     "data": {
      "text/plain": [
       "11"
      ]
     },
     "execution_count": 34,
     "metadata": {},
     "output_type": "execute_result"
    }
   ],
   "source": [
    "PatternCount(vibriaColerae, 'ATCA')"
   ]
  },
  {
   "cell_type": "markdown",
   "metadata": {},
   "source": [
    "Note que conseguimos contar 11 ocorrências da sequência 'ATCA' (a primeira ocorre no início da sequência fornecida).\n",
    "\n",
    "Quaisquer que sejam as sequências fornecidas o algoritmo irá percorrer a \"palavra\" atrás de ocorrências do \"padrão\" fornecido."
   ]
  },
  {
   "cell_type": "markdown",
   "metadata": {},
   "source": [
    "Abaixo está o procedimento para a definição de um dicionário, ___frequency map___.\n",
    "\n",
    "Seja as bases nucleotídicas 'A', 'T', 'C', 'G':"
   ]
  },
  {
   "cell_type": "code",
   "execution_count": 8,
   "metadata": {},
   "outputs": [],
   "source": [
    "bases = ['A', 'T', 'C', 'G']"
   ]
  },
  {
   "cell_type": "markdown",
   "metadata": {},
   "source": [
    "O problema \"k-mer\" define a ocorrência de todas as substrings em uma string.\n",
    "\n",
    "Para definir nosso problema precisamos saber o tamanho de nossa substring 'k'.\n",
    "\n",
    "Assim, para um k = 2, nossa \"frequency map\" se dá de acordo com 4² possíveis substrings:\n",
    "\n",
    "'AA', 'AT', 'AC', 'AG',\n",
    "\n",
    "'TA', 'TT', 'TC', 'TG',\n",
    "\n",
    "'CA', 'CT', 'CC', 'CG',\n",
    "\n",
    "'GA', 'GT', 'GC', 'GG'\n",
    "\n",
    "Pela definição de permutação, para um arranjo de n-tuplas (onde a repetição é permitida), teremos que em um conjunto S de k elementos, o número de n-tuplas sobre S será de:\n",
    "\n",
    "$$ k^n $$\n",
    "\n",
    "Uma \"tupla\" é uma lista ordenada que não permite mudanças uma vez definida, isto é, se definimos nossa _frequency map_ com um determinado número de combinações possíveis de nucleotídeos, procuraremos apenas pelas combinações contendo aquela lista definida."
   ]
  },
  {
   "cell_type": "code",
   "execution_count": 6,
   "metadata": {},
   "outputs": [],
   "source": [
    "def frequencyMapGenerator ( freq ):\n",
    "    bases = ['A', 'T', 'C', 'G']\n",
    "    mapa = []\n",
    "    tempMap = []\n",
    "    count = 0\n",
    "    string = ''\n",
    "    \n",
    "    for i in bases:\n",
    "        for j in bases:\n",
    "            tempMap.append(i + j)\n",
    "    mapa = tempMap\n",
    "    if (freq == 0) :\n",
    "        return None\n",
    "    elif (freq == 1):\n",
    "        return bases\n",
    "    elif (freq == 2):\n",
    "        return mapa\n",
    "    else:\n",
    "        for k in range(freq):\n",
    "            if ( k > 1 ):\n",
    "                tempMap = []\n",
    "                for i in mapa:\n",
    "                    for j in bases:\n",
    "                        tempMap.append(i + j)\n",
    "                mapa = tempMap\n",
    "    return(mapa)"
   ]
  },
  {
   "cell_type": "markdown",
   "metadata": {},
   "source": [
    "#### Teste da função"
   ]
  },
  {
   "cell_type": "code",
   "execution_count": 29,
   "metadata": {},
   "outputs": [
    {
     "name": "stdout",
     "output_type": "stream",
     "text": [
      "['AAA', 'AAT', 'AAC', 'AAG', 'ATA', 'ATT', 'ATC', 'ATG', 'ACA', 'ACT', 'ACC', 'ACG', 'AGA', 'AGT', 'AGC', 'AGG', 'TAA', 'TAT', 'TAC', 'TAG', 'TTA', 'TTT', 'TTC', 'TTG', 'TCA', 'TCT', 'TCC', 'TCG', 'TGA', 'TGT', 'TGC', 'TGG', 'CAA', 'CAT', 'CAC', 'CAG', 'CTA', 'CTT', 'CTC', 'CTG', 'CCA', 'CCT', 'CCC', 'CCG', 'CGA', 'CGT', 'CGC', 'CGG', 'GAA', 'GAT', 'GAC', 'GAG', 'GTA', 'GTT', 'GTC', 'GTG', 'GCA', 'GCT', 'GCC', 'GCG', 'GGA', 'GGT', 'GGC', 'GGG']\n"
     ]
    }
   ],
   "source": [
    "mapSet3 = frequencyMapGenerator(3)\n",
    "print(mapSet3)"
   ]
  },
  {
   "cell_type": "markdown",
   "metadata": {},
   "source": [
    "Uma outra forma de fazer a permutação seria utilizando alguma biblioteca pronta, como se segue:"
   ]
  },
  {
   "cell_type": "code",
   "execution_count": 10,
   "metadata": {},
   "outputs": [
    {
     "name": "stdout",
     "output_type": "stream",
     "text": [
      "[('A', 'A', 'A'), ('A', 'A', 'T'), ('A', 'A', 'C'), ('A', 'A', 'G'), ('A', 'T', 'A'), ('A', 'T', 'T'), ('A', 'T', 'C'), ('A', 'T', 'G'), ('A', 'C', 'A'), ('A', 'C', 'T'), ('A', 'C', 'C'), ('A', 'C', 'G'), ('A', 'G', 'A'), ('A', 'G', 'T'), ('A', 'G', 'C'), ('A', 'G', 'G'), ('T', 'A', 'A'), ('T', 'A', 'T'), ('T', 'A', 'C'), ('T', 'A', 'G'), ('T', 'T', 'A'), ('T', 'T', 'T'), ('T', 'T', 'C'), ('T', 'T', 'G'), ('T', 'C', 'A'), ('T', 'C', 'T'), ('T', 'C', 'C'), ('T', 'C', 'G'), ('T', 'G', 'A'), ('T', 'G', 'T'), ('T', 'G', 'C'), ('T', 'G', 'G'), ('C', 'A', 'A'), ('C', 'A', 'T'), ('C', 'A', 'C'), ('C', 'A', 'G'), ('C', 'T', 'A'), ('C', 'T', 'T'), ('C', 'T', 'C'), ('C', 'T', 'G'), ('C', 'C', 'A'), ('C', 'C', 'T'), ('C', 'C', 'C'), ('C', 'C', 'G'), ('C', 'G', 'A'), ('C', 'G', 'T'), ('C', 'G', 'C'), ('C', 'G', 'G'), ('G', 'A', 'A'), ('G', 'A', 'T'), ('G', 'A', 'C'), ('G', 'A', 'G'), ('G', 'T', 'A'), ('G', 'T', 'T'), ('G', 'T', 'C'), ('G', 'T', 'G'), ('G', 'C', 'A'), ('G', 'C', 'T'), ('G', 'C', 'C'), ('G', 'C', 'G'), ('G', 'G', 'A'), ('G', 'G', 'T'), ('G', 'G', 'C'), ('G', 'G', 'G')]\n"
     ]
    }
   ],
   "source": [
    "import itertools\n",
    "print(list(itertools.product(bases, repeat=3)))"
   ]
  },
  {
   "cell_type": "markdown",
   "metadata": {},
   "source": [
    "#### Prosseguindo com a contagem de ocorrências\n",
    "\n",
    "Agora já é possível contar nossas ocorrências, mas ao invés de passar apenas um padrão, eu quero mapear todas as ocorrências de três pares de base:"
   ]
  },
  {
   "cell_type": "code",
   "execution_count": 31,
   "metadata": {},
   "outputs": [
    {
     "name": "stdout",
     "output_type": "stream",
     "text": [
      "Pattern  AAA  has  4 matchs.\n",
      "Pattern  AAT  has  10 matchs.\n",
      "Pattern  AAC  has  3 matchs.\n",
      "Pattern  AAG  has  12 matchs.\n",
      "Pattern  ATA  has  7 matchs.\n",
      "Pattern  ATT  has  11 matchs.\n",
      "Pattern  ATC  has  21 matchs.\n",
      "Pattern  ATG  has  15 matchs.\n",
      "Pattern  ACA  has  7 matchs.\n",
      "Pattern  ACT  has  9 matchs.\n",
      "Pattern  ACC  has  5 matchs.\n",
      "Pattern  ACG  has  7 matchs.\n",
      "Pattern  AGA  has  8 matchs.\n",
      "Pattern  AGT  has  2 matchs.\n",
      "Pattern  AGC  has  10 matchs.\n",
      "Pattern  AGG  has  5 matchs.\n",
      "Pattern  TAA  has  6 matchs.\n",
      "Pattern  TAT  has  6 matchs.\n",
      "Pattern  TAC  has  7 matchs.\n",
      "Pattern  TAG  has  5 matchs.\n",
      "Pattern  TTA  has  10 matchs.\n",
      "Pattern  TTT  has  16 matchs.\n",
      "Pattern  TTC  has  12 matchs.\n",
      "Pattern  TTG  has  17 matchs.\n",
      "Pattern  TCA  has  17 matchs.\n",
      "Pattern  TCT  has  16 matchs.\n",
      "Pattern  TCC  has  7 matchs.\n",
      "Pattern  TCG  has  7 matchs.\n",
      "Pattern  TGA  has  25 matchs.\n",
      "Pattern  TGT  has  10 matchs.\n",
      "Pattern  TGC  has  8 matchs.\n",
      "Pattern  TGG  has  4 matchs.\n",
      "Pattern  CAA  has  12 matchs.\n",
      "Pattern  CAT  has  16 matchs.\n",
      "Pattern  CAC  has  5 matchs.\n",
      "Pattern  CAG  has  2 matchs.\n",
      "Pattern  CTA  has  3 matchs.\n",
      "Pattern  CTT  has  17 matchs.\n",
      "Pattern  CTC  has  14 matchs.\n",
      "Pattern  CTG  has  10 matchs.\n",
      "Pattern  CCA  has  8 matchs.\n",
      "Pattern  CCT  has  9 matchs.\n",
      "Pattern  CCC  has  1 matchs.\n",
      "Pattern  CCG  has  3 matchs.\n",
      "Pattern  CGA  has  7 matchs.\n",
      "Pattern  CGT  has  5 matchs.\n",
      "Pattern  CGC  has  4 matchs.\n",
      "Pattern  CGG  has  5 matchs.\n",
      "Pattern  GAA  has  7 matchs.\n",
      "Pattern  GAT  has  21 matchs.\n",
      "Pattern  GAC  has  13 matchs.\n",
      "Pattern  GAG  has  6 matchs.\n",
      "Pattern  GTA  has  4 matchs.\n",
      "Pattern  GTT  has  11 matchs.\n",
      "Pattern  GTC  has  1 matchs.\n",
      "Pattern  GTG  has  5 matchs.\n",
      "Pattern  GCA  has  3 matchs.\n",
      "Pattern  GCT  has  10 matchs.\n",
      "Pattern  GCC  has  8 matchs.\n",
      "Pattern  GCG  has  4 matchs.\n",
      "Pattern  GGA  has  7 matchs.\n",
      "Pattern  GGT  has  4 matchs.\n",
      "Pattern  GGC  has  3 matchs.\n",
      "Pattern  GGG  has  1 matchs.\n"
     ]
    }
   ],
   "source": [
    "for s in mapSet3:\n",
    "    counter = PatternCount(vibriaColerae, s)\n",
    "    print('Pattern ', s, ' has ', counter, 'matchs.')"
   ]
  },
  {
   "cell_type": "code",
   "execution_count": 3,
   "metadata": {},
   "outputs": [],
   "source": [
    "a = 4"
   ]
  },
  {
   "cell_type": "markdown",
   "metadata": {},
   "source": [
    "# Teste"
   ]
  }
 ],
 "metadata": {
  "kernelspec": {
   "display_name": "Python 3",
   "language": "python",
   "name": "python3"
  },
  "language_info": {
   "codemirror_mode": {
    "name": "ipython",
    "version": 3
   },
   "file_extension": ".py",
   "mimetype": "text/x-python",
   "name": "python",
   "nbconvert_exporter": "python",
   "pygments_lexer": "ipython3",
   "version": "3.7.0"
  }
 },
 "nbformat": 4,
 "nbformat_minor": 2
}
