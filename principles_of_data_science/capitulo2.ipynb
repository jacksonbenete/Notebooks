{
 "cells": [
  {
   "cell_type": "markdown",
   "metadata": {},
   "source": [
    "# Capítulo 2"
   ]
  },
  {
   "cell_type": "markdown",
   "metadata": {},
   "source": [
    "## Consumo mundial de álcool"
   ]
  },
  {
   "cell_type": "code",
   "execution_count": 2,
   "metadata": {},
   "outputs": [],
   "source": [
    "using DataFrames;\n",
    "using Gadfly;\n",
    "using CSV;"
   ]
  },
  {
   "cell_type": "code",
   "execution_count": 13,
   "metadata": {},
   "outputs": [],
   "source": [
    "dataset = CSV.read(joinpath(Pkg.dir(\"DataFrames\"), \"/home/jacksonbenete/GIT/notebooks/principles_of_data_science/data/drinks.csv\"));"
   ]
  },
  {
   "cell_type": "code",
   "execution_count": 14,
   "metadata": {},
   "outputs": [
    {
     "data": {
      "text/html": [
       "<table class=\"data-frame\"><thead><tr><th></th><th>country</th><th>beer_servings</th><th>spirit_servings</th><th>wine_servings</th><th>total_litres_of_pure_alcohol</th><th>continent</th></tr></thead><tbody><tr><th>1</th><td>Afghanistan</td><td>0</td><td>0</td><td>0</td><td>0.0</td><td>AS</td></tr><tr><th>2</th><td>Albania</td><td>89</td><td>132</td><td>54</td><td>4.9</td><td>EU</td></tr><tr><th>3</th><td>Algeria</td><td>25</td><td>0</td><td>14</td><td>0.7</td><td>AF</td></tr><tr><th>4</th><td>Andorra</td><td>245</td><td>138</td><td>312</td><td>12.4</td><td>EU</td></tr><tr><th>5</th><td>Angola</td><td>217</td><td>57</td><td>45</td><td>5.9</td><td>AF</td></tr><tr><th>6</th><td>Antigua &amp; Barbuda</td><td>102</td><td>128</td><td>45</td><td>4.9</td><td>NA</td></tr></tbody></table>"
      ],
      "text/plain": [
       "6×6 DataFrames.DataFrame. Omitted printing of 2 columns\n",
       "│ Row │ country           │ beer_servings │ spirit_servings │ wine_servings │\n",
       "├─────┼───────────────────┼───────────────┼─────────────────┼───────────────┤\n",
       "│ 1   │ Afghanistan       │ 0             │ 0               │ 0             │\n",
       "│ 2   │ Albania           │ 89            │ 132             │ 54            │\n",
       "│ 3   │ Algeria           │ 25            │ 0               │ 14            │\n",
       "│ 4   │ Andorra           │ 245           │ 138             │ 312           │\n",
       "│ 5   │ Angola            │ 217           │ 57              │ 45            │\n",
       "│ 6   │ Antigua & Barbuda │ 102           │ 128             │ 45            │"
      ]
     },
     "execution_count": 14,
     "metadata": {},
     "output_type": "execute_result"
    }
   ],
   "source": [
    "head(dataset)"
   ]
  },
  {
   "cell_type": "code",
   "execution_count": 24,
   "metadata": {},
   "outputs": [
    {
     "name": "stdout",
     "output_type": "stream",
     "text": [
      "Summary Stats:\n",
      "Length:         193\n",
      "Type:           Union{CategoricalArrays.CategoricalString{UInt32}, Missings.Missing}\n",
      "Number Unique:  6\n",
      "Number Missing: 0\n",
      "% Missing:      0.000000\n"
     ]
    }
   ],
   "source": [
    "describe(dataset[:, 6])"
   ]
  },
  {
   "cell_type": "code",
   "execution_count": 31,
   "metadata": {},
   "outputs": [
    {
     "name": "stdout",
     "output_type": "stream",
     "text": [
      "Summary Stats:\n",
      "Mean:           106.160622\n",
      "Minimum:        0.000000\n",
      "1st Quartile:   20.000000\n",
      "Median:         76.000000\n",
      "3rd Quartile:   188.000000\n",
      "Maximum:        376.000000\n",
      "Length:         193\n",
      "Type:           Union{Int64, Missings.Missing}\n",
      "Number Missing: 0\n",
      "% Missing:      0.000000\n"
     ]
    }
   ],
   "source": [
    "describe(dataset[:, 2])"
   ]
  }
 ],
 "metadata": {
  "kernelspec": {
   "display_name": "Julia 0.6.1",
   "language": "julia",
   "name": "julia-0.6"
  },
  "language_info": {
   "file_extension": ".jl",
   "mimetype": "application/julia",
   "name": "julia",
   "version": "0.6.1"
  }
 },
 "nbformat": 4,
 "nbformat_minor": 2
}
