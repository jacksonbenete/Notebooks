{
 "cells": [
  {
   "cell_type": "markdown",
   "metadata": {},
   "source": [
    "# Capítulo 2"
   ]
  },
  {
   "cell_type": "markdown",
   "metadata": {},
   "source": [
    "## Consumo mundial de álcool"
   ]
  },
  {
   "cell_type": "code",
   "execution_count": 2,
   "metadata": {},
   "outputs": [],
   "source": [
    "using DataFrames;\n",
    "using Gadfly;\n",
    "using CSV;"
   ]
  },
  {
   "cell_type": "code",
   "execution_count": 9,
   "metadata": {},
   "outputs": [
    {
     "ename": "LoadError",
     "evalue": "\u001b[91mArgumentError: \"/home/jacksonbenete/anaconda3/share/julia/site/v0.6/DataFrames/https://raw.githubusercontent.com/sinanuozdemir/principles_of_data_science/master/data/chapter_2/drinks.csv\" is not a valid file\u001b[39m",
     "output_type": "error",
     "traceback": [
      "\u001b[91mArgumentError: \"/home/jacksonbenete/anaconda3/share/julia/site/v0.6/DataFrames/https://raw.githubusercontent.com/sinanuozdemir/principles_of_data_science/master/data/chapter_2/drinks.csv\" is not a valid file\u001b[39m",
      "",
      "Stacktrace:",
      " [1] \u001b[1m#Source#24\u001b[22m\u001b[22m\u001b[1m(\u001b[22m\u001b[22m::String, ::CSV.Options{Void}, ::Int64, ::Int64, ::Array{Type,1}, ::Symbol, ::Void, ::Bool, ::Void, ::Symbol, ::Int64, ::Int64, ::Int64, ::Bool, ::Type{T} where T\u001b[1m)\u001b[22m\u001b[22m at \u001b[1m/home/jacksonbenete/anaconda3/share/julia/site/v0.6/CSV/src/Source.jl:59\u001b[22m\u001b[22m",
      " [2] \u001b[1m(::Core.#kw#Type)\u001b[22m\u001b[22m\u001b[1m(\u001b[22m\u001b[22m::Array{Any,1}, ::Type{CSV.Source}\u001b[1m)\u001b[22m\u001b[22m at \u001b[1m./<missing>:0\u001b[22m\u001b[22m",
      " [3] \u001b[1m#Source#23\u001b[22m\u001b[22m\u001b[1m(\u001b[22m\u001b[22m::UInt8, ::UInt8, ::UInt8, ::String, ::Void, ::Int64, ::Int64, ::Array{Type,1}, ::Symbol, ::Void, ::Void, ::UInt8, ::String, ::String, ::Bool, ::Void, ::Symbol, ::Int64, ::Int64, ::Int64, ::Bool, ::Type{T} where T, ::String\u001b[1m)\u001b[22m\u001b[22m at \u001b[1m/home/jacksonbenete/anaconda3/share/julia/site/v0.6/CSV/src/Source.jl:31\u001b[22m\u001b[22m",
      " [4] \u001b[1m#read#43\u001b[22m\u001b[22m\u001b[1m(\u001b[22m\u001b[22m::Bool, ::Dict{Int64,Function}, ::Bool, ::Array{Any,1}, ::Function, ::String, ::Type{T} where T\u001b[1m)\u001b[22m\u001b[22m at \u001b[1m/home/jacksonbenete/anaconda3/share/julia/site/v0.6/CSV/src/Source.jl:347\u001b[22m\u001b[22m",
      " [5] \u001b[1mread\u001b[22m\u001b[22m\u001b[1m(\u001b[22m\u001b[22m::String\u001b[1m)\u001b[22m\u001b[22m at \u001b[1m/home/jacksonbenete/anaconda3/share/julia/site/v0.6/CSV/src/Source.jl:347\u001b[22m\u001b[22m"
     ]
    }
   ],
   "source": [
    "file_path = \"https://raw.githubusercontent.com/sinanuozdemir/principles_of_data_science/master/data/chapter_2/drinks.csv\";\n",
    "\n",
    "dataset = CSV.read(joinpath(Pkg.dir(\"DataFrames\"), file_path));"
   ]
  },
  {
   "cell_type": "code",
   "execution_count": 8,
   "metadata": {},
   "outputs": [
    {
     "ename": "LoadError",
     "evalue": "\u001b[91mMethodError: no method matching repl(::Symbol, ::Symbol)\u001b[0m\nClosest candidates are:\n  repl(\u001b[91m::IO\u001b[39m, ::Symbol) at docs/utils.jl:185\n  repl(\u001b[91m::IO\u001b[39m, ::Any) at docs/utils.jl:196\n  repl(::Any) at docs/utils.jl:198\u001b[39m",
     "output_type": "error",
     "traceback": [
      "\u001b[91mMethodError: no method matching repl(::Symbol, ::Symbol)\u001b[0m\nClosest candidates are:\n  repl(\u001b[91m::IO\u001b[39m, ::Symbol) at docs/utils.jl:185\n  repl(\u001b[91m::IO\u001b[39m, ::Any) at docs/utils.jl:196\n  repl(::Any) at docs/utils.jl:198\u001b[39m",
      ""
     ]
    }
   ],
   "source": [
    "?help sum"
   ]
  }
 ],
 "metadata": {
  "kernelspec": {
   "display_name": "Julia 0.6.1",
   "language": "julia",
   "name": "julia-0.6"
  },
  "language_info": {
   "file_extension": ".jl",
   "mimetype": "application/julia",
   "name": "julia",
   "version": "0.6.1"
  }
 },
 "nbformat": 4,
 "nbformat_minor": 2
}
